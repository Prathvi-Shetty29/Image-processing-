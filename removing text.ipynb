{
 "cells": [
  {
   "cell_type": "code",
   "execution_count": 1,
   "id": "385a72b5",
   "metadata": {},
   "outputs": [],
   "source": [
    "import cv2\n",
    "import numpy as np\n"
   ]
  },
  {
   "cell_type": "code",
   "execution_count": 2,
   "id": "8fc6af88",
   "metadata": {},
   "outputs": [],
   "source": [
    "img = cv2.imread('img_text.png')\n",
    "mask = cv2.threshold(img, 210, 255, cv2.THRESH_BINARY)[1][:,:,0]\n",
    "dst = cv2.inpaint(img, mask, 7, cv2.INPAINT_NS)"
   ]
  },
  {
   "cell_type": "code",
   "execution_count": 3,
   "id": "2643f706",
   "metadata": {},
   "outputs": [
    {
     "ename": "ValueError",
     "evalue": "could not broadcast input array from shape (32,30) into shape (32,28)",
     "output_type": "error",
     "traceback": [
      "\u001b[1;31m---------------------------------------------------------------------------\u001b[0m",
      "\u001b[1;31mValueError\u001b[0m                                Traceback (most recent call last)",
      "Input \u001b[1;32mIn [3]\u001b[0m, in \u001b[0;36m<cell line: 2>\u001b[1;34m()\u001b[0m\n\u001b[0;32m      1\u001b[0m crosses \u001b[38;5;241m=\u001b[39m mask[\u001b[38;5;241m235\u001b[39m:\u001b[38;5;241m267\u001b[39m,\u001b[38;5;241m290\u001b[39m:\u001b[38;5;241m320\u001b[39m] \u001b[38;5;241m|\u001b[39m mask[\u001b[38;5;241m233\u001b[39m:\u001b[38;5;241m265\u001b[39m,\u001b[38;5;241m288\u001b[39m:\u001b[38;5;241m318\u001b[39m]\n\u001b[1;32m----> 2\u001b[0m mask[\u001b[38;5;241m235\u001b[39m:\u001b[38;5;241m267\u001b[39m,\u001b[38;5;241m290\u001b[39m:\u001b[38;5;241m318\u001b[39m] \u001b[38;5;241m=\u001b[39m crosses\n\u001b[0;32m      3\u001b[0m dst \u001b[38;5;241m=\u001b[39m cv2\u001b[38;5;241m.\u001b[39minpaint(img, mask, \u001b[38;5;241m7\u001b[39m, cv2\u001b[38;5;241m.\u001b[39mINPAINT_NS)\n",
      "\u001b[1;31mValueError\u001b[0m: could not broadcast input array from shape (32,30) into shape (32,28)"
     ]
    }
   ],
   "source": [
    "crosses = mask[235:267,290:320] | mask[233:265,288:318]\n",
    "mask[235:267,290:318] = crosses\n",
    "dst = cv2.inpaint(img, mask, 7, cv2.INPAINT_NS)\n"
   ]
  },
  {
   "cell_type": "code",
   "execution_count": null,
   "id": "786bca85",
   "metadata": {},
   "outputs": [],
   "source": []
  }
 ],
 "metadata": {
  "kernelspec": {
   "display_name": "Python 3 (ipykernel)",
   "language": "python",
   "name": "python3"
  },
  "language_info": {
   "codemirror_mode": {
    "name": "ipython",
    "version": 3
   },
   "file_extension": ".py",
   "mimetype": "text/x-python",
   "name": "python",
   "nbconvert_exporter": "python",
   "pygments_lexer": "ipython3",
   "version": "3.9.12"
  }
 },
 "nbformat": 4,
 "nbformat_minor": 5
}
