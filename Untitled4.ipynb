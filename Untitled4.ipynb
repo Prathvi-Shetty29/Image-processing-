{
 "cells": [
  {
   "cell_type": "code",
   "execution_count": null,
   "id": "d6b4ae00",
   "metadata": {},
   "outputs": [],
   "source": [
    "from skimage.util import random_noise\n",
    "import numpy as np\n",
    "import matplotlib.pyplot as plt\n",
    "import pandas as pd\n",
    "fruit_image=plt.imread('dog.jpg')\n",
    "noisy_image=random_noise(fruit_image)\n",
    "def plot_comparison(fruit_image,noisy_image):\n",
    "    fig,(ax1,ax2)=plt.subplots(ncols=2,figsize=(10,8),sharex=True,Sharey=True)\n",
    "    ax1.imshow(img_original,cmap=plt.cm.gray)\n",
    "    ax1.set_title('original')\n",
    "    ax.axis('off')\n",
    "    ax2.imshow(img_filtered,cmap=plt.cm.gray)\n",
    "    ax2.set_title(img_title_filtered)\n",
    "    ax2.axis('off')\n"
   ]
  },
  {
   "cell_type": "code",
   "execution_count": null,
   "id": "a82e7b48",
   "metadata": {},
   "outputs": [],
   "source": [
    "plot_comparison(fruit_image,noisy_image)"
   ]
  },
  {
   "cell_type": "code",
   "execution_count": null,
   "id": "4f5a05aa",
   "metadata": {},
   "outputs": [],
   "source": []
  }
 ],
 "metadata": {
  "kernelspec": {
   "display_name": "Python 3 (ipykernel)",
   "language": "python",
   "name": "python3"
  },
  "language_info": {
   "codemirror_mode": {
    "name": "ipython",
    "version": 3
   },
   "file_extension": ".py",
   "mimetype": "text/x-python",
   "name": "python",
   "nbconvert_exporter": "python",
   "pygments_lexer": "ipython3",
   "version": "3.9.12"
  }
 },
 "nbformat": 4,
 "nbformat_minor": 5
}
