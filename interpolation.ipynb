{
 "cells": [
  {
   "cell_type": "code",
   "execution_count": null,
   "id": "35c79a2a",
   "metadata": {
    "scrolled": false
   },
   "outputs": [],
   "source": [
    "import matplotlib.image as img\n",
    "import numpy as npy\n",
    "m = img.imread(\"wolf.jpg\")\n",
    "w, h = m.shape[:2]\n",
    "xNew = int(w * 1 / 2)\n",
    "yNew = int(h * 1 / 2)\n",
    "xScale = xNew/(w-1)\n",
    "yScale = yNew/(h-1)\n",
    "newImage = npy.zeros([xNew, yNew, 4])\n",
    "for i in range(xNew-1):\n",
    "    for j in range(yNew-1):\n",
    "        newImage[i + 1, j + 1]= m[1 + int(i / xScale),\n",
    "                               1 + int(j / yScale)]\n",
    "img.imsave('scaled.jpg', newImage);\n"
   ]
  },
  {
   "cell_type": "code",
   "execution_count": null,
   "id": "59c2c26f",
   "metadata": {},
   "outputs": [],
   "source": []
  },
  {
   "cell_type": "code",
   "execution_count": null,
   "id": "e2515eba",
   "metadata": {},
   "outputs": [],
   "source": []
  }
 ],
 "metadata": {
  "kernelspec": {
   "display_name": "Python 3 (ipykernel)",
   "language": "python",
   "name": "python3"
  },
  "language_info": {
   "codemirror_mode": {
    "name": "ipython",
    "version": 3
   },
   "file_extension": ".py",
   "mimetype": "text/x-python",
   "name": "python",
   "nbconvert_exporter": "python",
   "pygments_lexer": "ipython3",
   "version": "3.9.12"
  }
 },
 "nbformat": 4,
 "nbformat_minor": 5
}
