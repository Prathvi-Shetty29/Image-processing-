{
 "cells": [
  {
   "cell_type": "code",
   "execution_count": 4,
   "id": "a4bf5816",
   "metadata": {},
   "outputs": [],
   "source": [
    "# Importing Image and ImageChops module from PIL package\n",
    "from PIL import Image, ImageChops\n",
    "\n",
    "# creating a image1 object\n",
    "im1 = Image.open(r\"dog.jpg\")\n",
    "\n",
    "# creating a image2 object\n",
    "im2 = Image.open(r\"wolf.jpg\")\n",
    "\n",
    "# applying add method\n",
    "im3 = ImageChops.add(im1, im2, scale = 1.0, offset = 2)\n",
    "\n",
    "im3.show()\n"
   ]
  },
  {
   "cell_type": "code",
   "execution_count": null,
   "id": "5a78d1c0",
   "metadata": {},
   "outputs": [],
   "source": []
  }
 ],
 "metadata": {
  "kernelspec": {
   "display_name": "Python 3 (ipykernel)",
   "language": "python",
   "name": "python3"
  },
  "language_info": {
   "codemirror_mode": {
    "name": "ipython",
    "version": 3
   },
   "file_extension": ".py",
   "mimetype": "text/x-python",
   "name": "python",
   "nbconvert_exporter": "python",
   "pygments_lexer": "ipython3",
   "version": "3.9.12"
  }
 },
 "nbformat": 4,
 "nbformat_minor": 5
}
