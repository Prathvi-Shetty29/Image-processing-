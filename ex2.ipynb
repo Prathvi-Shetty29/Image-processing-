{
 "cells": [
  {
   "cell_type": "code",
   "execution_count": 1,
   "id": "89a185ea",
   "metadata": {},
   "outputs": [],
   "source": [
    "import cv2\n",
    "from PIL import Image\n",
    "import numpy as np\n",
    "import matplotlib.image as Image\n",
    "#img=Image.open('D:\\Image processing\\wolf.jpg')\n",
    "img=cv2.imread('D:\\Image processing\\wolf.jpg')"
   ]
  },
  {
   "cell_type": "code",
   "execution_count": 2,
   "id": "d2512585",
   "metadata": {},
   "outputs": [],
   "source": [
    "cv2.imshow('image',img)\n",
    "#cv2.waitKey(0)"
   ]
  },
  {
   "cell_type": "code",
   "execution_count": 3,
   "id": "9b0ba7c0",
   "metadata": {},
   "outputs": [
    {
     "data": {
      "text/plain": [
       "'width=img.width\\nheight=img.height'"
      ]
     },
     "execution_count": 3,
     "metadata": {},
     "output_type": "execute_result"
    }
   ],
   "source": [
    "\"\"\"width=img.width\n",
    "height=img.height\"\"\""
   ]
  },
  {
   "cell_type": "code",
   "execution_count": 4,
   "id": "cda00248",
   "metadata": {},
   "outputs": [
    {
     "data": {
      "text/plain": [
       "'print(\"The height of the image is: \", height)\\nprint(\"The width of the image is: \", width)'"
      ]
     },
     "execution_count": 4,
     "metadata": {},
     "output_type": "execute_result"
    }
   ],
   "source": [
    "\"\"\"print(\"The height of the image is: \", height)\n",
    "print(\"The width of the image is: \", width)\"\"\""
   ]
  },
  {
   "cell_type": "code",
   "execution_count": 11,
   "id": "0cfb5e57",
   "metadata": {},
   "outputs": [
    {
     "name": "stdout",
     "output_type": "stream",
     "text": [
      "no of channels is:2\n",
      "no of channels is: (183, 275)\n"
     ]
    }
   ],
   "source": [
    "import cv2\n",
    "from PIL import Image\n",
    "import numpy as np\n",
    "import matplotlib.image as image\n",
    "img=cv2.imread(\"wolf.jpg\",0)\n",
    "print(\"no of channels is:\"+str(img.ndim))\n",
    "print(\"no of channels is:\",img.shape)\n",
    "cv2.imshow('images',img)\n",
    "cv2.waitKey(0)\n",
    "cv2.destroyAllWindows()"
   ]
  },
  {
   "cell_type": "code",
   "execution_count": 14,
   "id": "fdc53900",
   "metadata": {},
   "outputs": [],
   "source": [
    "import cv2\n",
    "filepath='wolf.jpg'\n",
    "img=Image.open(filepath)\n",
    "new=img.resize((75,75))\n",
    "img.show()\n",
    "new.show()"
   ]
  },
  {
   "cell_type": "code",
   "execution_count": 15,
   "id": "f541876e",
   "metadata": {},
   "outputs": [
    {
     "name": "stdout",
     "output_type": "stream",
     "text": [
      "the shape of the image is (183, 275, 3)\n",
      "the image as array is\n",
      "[[[35 61 75]\n",
      "  [35 61 75]\n",
      "  [36 62 76]\n",
      "  ...\n",
      "  [40 71 72]\n",
      "  [38 72 72]\n",
      "  [38 72 72]]\n",
      "\n",
      " [[36 62 76]\n",
      "  [36 62 76]\n",
      "  [37 63 77]\n",
      "  ...\n",
      "  [39 70 71]\n",
      "  [37 71 71]\n",
      "  [37 71 71]]\n",
      "\n",
      " [[38 64 78]\n",
      "  [38 64 78]\n",
      "  [39 65 79]\n",
      "  ...\n",
      "  [39 70 71]\n",
      "  [37 71 71]\n",
      "  [37 71 71]]\n",
      "\n",
      " ...\n",
      "\n",
      " [[45 96 92]\n",
      "  [45 96 92]\n",
      "  [45 97 90]\n",
      "  ...\n",
      "  [30 88 77]\n",
      "  [30 88 77]\n",
      "  [30 88 77]]\n",
      "\n",
      " [[46 97 93]\n",
      "  [46 97 93]\n",
      "  [45 97 90]\n",
      "  ...\n",
      "  [32 90 79]\n",
      "  [32 90 79]\n",
      "  [32 90 79]]\n",
      "\n",
      " [[47 98 94]\n",
      "  [46 97 93]\n",
      "  [46 98 91]\n",
      "  ...\n",
      "  [33 91 80]\n",
      "  [33 91 80]\n",
      "  [33 91 80]]]\n"
     ]
    }
   ],
   "source": [
    "pic=cv2.imread('wolf.jpg')\n",
    "print('the shape of the image is',pic.shape)\n",
    "print('the image as array is')\n",
    "print(pic)"
   ]
  },
  {
   "cell_type": "code",
   "execution_count": 22,
   "id": "9e18e541",
   "metadata": {},
   "outputs": [],
   "source": [
    "import cv2\n",
    "img=cv2.imread(\"wolf.jpg\",)\n",
    "ret,bw_img=cv2.threshold(img,225,127,cv2.THRESH_BINARY)\n",
    "cv2.imshow(\"Binary\",bw_img)\n",
    "cv2.waitKey(0)\n",
    "cv2.destroyAllWindows()"
   ]
  },
  {
   "cell_type": "code",
   "execution_count": null,
   "id": "9a435422",
   "metadata": {},
   "outputs": [],
   "source": []
  },
  {
   "cell_type": "code",
   "execution_count": null,
   "id": "616cda48",
   "metadata": {},
   "outputs": [],
   "source": []
  }
 ],
 "metadata": {
  "kernelspec": {
   "display_name": "Python 3 (ipykernel)",
   "language": "python",
   "name": "python3"
  },
  "language_info": {
   "codemirror_mode": {
    "name": "ipython",
    "version": 3
   },
   "file_extension": ".py",
   "mimetype": "text/x-python",
   "name": "python",
   "nbconvert_exporter": "python",
   "pygments_lexer": "ipython3",
   "version": "3.9.12"
  }
 },
 "nbformat": 4,
 "nbformat_minor": 5
}
