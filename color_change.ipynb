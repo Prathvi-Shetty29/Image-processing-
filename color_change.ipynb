{
 "cells": [
  {
   "cell_type": "code",
   "execution_count": 3,
   "id": "1424566a",
   "metadata": {},
   "outputs": [],
   "source": [
    "import cv2\n",
    "img=cv2.imread('wolf.jpg')\n",
    "grey=cv2.cvtColor(img,cv2.COLOR_BGR2HSV)\n",
    "cv2.imshow('img',grey)\n",
    "cv2.waitKey(0)\n",
    "cv2.destroyAllWindows()"
   ]
  },
  {
   "cell_type": "code",
   "execution_count": 4,
   "id": "3f31a7dd",
   "metadata": {},
   "outputs": [],
   "source": [
    "grey=cv2.cvtColor(img,cv2.COLOR_BGR2GRAY)\n",
    "cv2.imshow('img',grey)\n",
    "cv2.waitKey(0)\n",
    "cv2.destroyAllWindows()"
   ]
  },
  {
   "cell_type": "code",
   "execution_count": 5,
   "id": "2fca5092",
   "metadata": {},
   "outputs": [],
   "source": [
    "grey=cv2.cvtColor(img,cv2.COLOR_BGR2LAB)\n",
    "cv2.imshow('img',grey)\n",
    "cv2.waitKey(0)\n",
    "cv2.destroyAllWindows()"
   ]
  },
  {
   "cell_type": "code",
   "execution_count": 6,
   "id": "2c55973b",
   "metadata": {},
   "outputs": [],
   "source": [
    "grey=cv2.cvtColor(img,cv2.COLOR_BGR2YUV)\n",
    "cv2.imshow('img',grey)\n",
    "cv2.waitKey(0)\n",
    "cv2.destroyAllWindows()"
   ]
  },
  {
   "cell_type": "code",
   "execution_count": 6,
   "id": "53e3d0c4",
   "metadata": {},
   "outputs": [],
   "source": [
    "grey=cv2.cvtColor(img,cv2.COLOR_BGR2HLS)\n",
    "cv2.imshow('img',grey)\n",
    "cv2.waitKey(0)\n",
    "cv2.destroyAllWindows()"
   ]
  },
  {
   "cell_type": "code",
   "execution_count": null,
   "id": "57489309",
   "metadata": {},
   "outputs": [],
   "source": []
  }
 ],
 "metadata": {
  "kernelspec": {
   "display_name": "Python 3 (ipykernel)",
   "language": "python",
   "name": "python3"
  },
  "language_info": {
   "codemirror_mode": {
    "name": "ipython",
    "version": 3
   },
   "file_extension": ".py",
   "mimetype": "text/x-python",
   "name": "python",
   "nbconvert_exporter": "python",
   "pygments_lexer": "ipython3",
   "version": "3.9.12"
  }
 },
 "nbformat": 4,
 "nbformat_minor": 5
}
