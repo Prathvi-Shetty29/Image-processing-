{
 "cells": [
  {
   "cell_type": "code",
   "execution_count": null,
   "id": "ccbdc772",
   "metadata": {},
   "outputs": [],
   "source": [
    "import cv2\n",
    "import numpy as np\n",
    "wolf=cv2.imread('wolf.jpg')\n",
    "dog=cv2.imread('dog.jpg')\n",
    "wolf_new=wolf.resize(100,100)\n",
    "dog_new=dog.resize(100,100)\n",
    "add=cv2.add(wolf_new,dog_new)\n",
    "cv2.imshow('img',add)\n",
    "cv2.waitKey(0)\n",
    "cv2.destroyAllWindows()"
   ]
  },
  {
   "cell_type": "code",
   "execution_count": null,
   "id": "c273743c",
   "metadata": {},
   "outputs": [],
   "source": []
  }
 ],
 "metadata": {
  "kernelspec": {
   "display_name": "Python 3 (ipykernel)",
   "language": "python",
   "name": "python3"
  },
  "language_info": {
   "codemirror_mode": {
    "name": "ipython",
    "version": 3
   },
   "file_extension": ".py",
   "mimetype": "text/x-python",
   "name": "python",
   "nbconvert_exporter": "python",
   "pygments_lexer": "ipython3",
   "version": "3.9.12"
  }
 },
 "nbformat": 4,
 "nbformat_minor": 5
}
