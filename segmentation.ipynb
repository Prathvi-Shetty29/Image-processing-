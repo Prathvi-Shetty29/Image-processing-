{
 "cells": [
  {
   "cell_type": "code",
   "execution_count": null,
   "id": "ac55a852",
   "metadata": {},
   "outputs": [],
   "source": [
    "import numpy as np\n",
    "import matplotlib.pyplot as plt\n",
    "import pandas as pd\n",
    "plt.rcParams['figure.figsize']=(10,8)\n",
    "\n",
    "\n",
    "\n"
   ]
  },
  {
   "cell_type": "code",
   "execution_count": null,
   "id": "9212f48f",
   "metadata": {},
   "outputs": [],
   "source": [
    "def show_image(image,title='Image',cmap_type='gray'):\n",
    "    plt.imshow(image,cmap=cmap_type)\n",
    "    plt.title(title)\n",
    "    plt.axis('off')\n",
    "    \n",
    "def plot_comparison(img_original,img_filtered,img_title_filtered):\n",
    "    fig,(ax1,ax2)=plt.subplots(ncols=2,figsize=(10,8),sharex=True,Sharey=True)\n",
    "    ax1.imshow(img_original,cmap=plt.cm.gray)\n",
    "    ax1.set_title('original')\n",
    "    ax.axis('off')\n",
    "    ax2.imshow(img_filtered,cmap=plt.cm.gray)\n",
    "    ax2.set_title(img_title_filtered)\n",
    "    ax2.axis('off')"
   ]
  },
  {
   "cell_type": "code",
   "execution_count": null,
   "id": "e66aae57",
   "metadata": {},
   "outputs": [],
   "source": [
    "from skimage.segmentation import slic\n",
    "from skimage.color import label2rgb\n",
    "face_image=plt.imread('face.jpg')\n",
    "segments=slic(face_image,n_segments=400)\n",
    "segmented_image=label2rgb(segments,face_image,kind='avg')\n",
    "plot_comparison(face_image,segmented_image,'segmented image,400 superpixels')"
   ]
  },
  {
   "cell_type": "code",
   "execution_count": null,
   "id": "b94b1146",
   "metadata": {},
   "outputs": [],
   "source": []
  },
  {
   "cell_type": "code",
   "execution_count": null,
   "id": "284e4abe",
   "metadata": {},
   "outputs": [],
   "source": []
  },
  {
   "cell_type": "code",
   "execution_count": null,
   "id": "417740be",
   "metadata": {},
   "outputs": [],
   "source": []
  }
 ],
 "metadata": {
  "kernelspec": {
   "display_name": "Python 3 (ipykernel)",
   "language": "python",
   "name": "python3"
  },
  "language_info": {
   "codemirror_mode": {
    "name": "ipython",
    "version": 3
   },
   "file_extension": ".py",
   "mimetype": "text/x-python",
   "name": "python",
   "nbconvert_exporter": "python",
   "pygments_lexer": "ipython3",
   "version": "3.9.12"
  }
 },
 "nbformat": 4,
 "nbformat_minor": 5
}
