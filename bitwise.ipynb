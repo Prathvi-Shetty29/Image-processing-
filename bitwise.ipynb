{
 "cells": [
  {
   "cell_type": "code",
   "execution_count": 1,
   "id": "8bc91851",
   "metadata": {},
   "outputs": [],
   "source": [
    "import cv2 as cv"
   ]
  },
  {
   "cell_type": "code",
   "execution_count": 2,
   "id": "49ec8da3",
   "metadata": {},
   "outputs": [],
   "source": [
    "img1 = cv.imread('wolf.jpg')\n",
    "img2 = cv.imread('dog.jpg')"
   ]
  },
  {
   "cell_type": "code",
   "execution_count": 3,
   "id": "7a1287e6",
   "metadata": {},
   "outputs": [],
   "source": [
    "bitwise_AND = cv.bitwise_and(img1, img2)\n",
    "bitwise_OR = cv.bitwise_or(img1, img2)\n",
    "bitwise_NOT = cv.bitwise_not(img1)"
   ]
  },
  {
   "cell_type": "code",
   "execution_count": null,
   "id": "81b49be8",
   "metadata": {},
   "outputs": [],
   "source": [
    "cv.imshow('img1',img1)\n",
    "cv.imshow('img2',img2)\n",
    "cv.imshow('AND',bitwise_AND)\n",
    "cv.imshow('OR',bitwise_OR)\n",
    "cv.imshow('NOT',bitwise_NOT)\n",
    "if cv.waitKey(0) & 0xff == 27: \n",
    "    cv.destroyAllWindows()"
   ]
  },
  {
   "cell_type": "code",
   "execution_count": null,
   "id": "53691da7",
   "metadata": {},
   "outputs": [],
   "source": []
  },
  {
   "cell_type": "code",
   "execution_count": null,
   "id": "d4bf9576",
   "metadata": {},
   "outputs": [],
   "source": []
  },
  {
   "cell_type": "code",
   "execution_count": null,
   "id": "b76ed10d",
   "metadata": {},
   "outputs": [],
   "source": []
  }
 ],
 "metadata": {
  "kernelspec": {
   "display_name": "Python 3 (ipykernel)",
   "language": "python",
   "name": "python3"
  },
  "language_info": {
   "codemirror_mode": {
    "name": "ipython",
    "version": 3
   },
   "file_extension": ".py",
   "mimetype": "text/x-python",
   "name": "python",
   "nbconvert_exporter": "python",
   "pygments_lexer": "ipython3",
   "version": "3.9.12"
  }
 },
 "nbformat": 4,
 "nbformat_minor": 5
}
