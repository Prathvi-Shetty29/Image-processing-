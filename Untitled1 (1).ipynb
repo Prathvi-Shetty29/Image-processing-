{
 "cells": [
  {
   "cell_type": "code",
   "execution_count": null,
   "id": "ad3d2cd3",
   "metadata": {},
   "outputs": [],
   "source": [
    "import pandas  as pd\n",
    "from PIL import Image\n",
    "from PIL import ImageFilter\n",
    "import matplotlib.pyplot as plt \n",
    "%matplotlib inline\n",
    "import imageio\n",
    "import matplotlib.pyplot as plt\n",
    "import warnings\n",
    "import matplotlib.cbook\n",
    "from IPython.core.display import HTML"
   ]
  },
  {
   "cell_type": "code",
   "execution_count": null,
   "id": "e67cadcb",
   "metadata": {},
   "outputs": [],
   "source": [
    "df=pd.DataFrame([['original'],['negative'],['log transformation']['gamma']],\n",
    "columns=['types'])\n",
    "painting_images=['dog,jpg']\n",
    "df['painting ']=painting_images"
   ]
  },
  {
   "cell_type": "code",
   "execution_count": null,
   "id": "5b1e6373",
   "metadata": {},
   "outputs": [],
   "source": []
  }
 ],
 "metadata": {
  "kernelspec": {
   "display_name": "Python 3 (ipykernel)",
   "language": "python",
   "name": "python3"
  },
  "language_info": {
   "codemirror_mode": {
    "name": "ipython",
    "version": 3
   },
   "file_extension": ".py",
   "mimetype": "text/x-python",
   "name": "python",
   "nbconvert_exporter": "python",
   "pygments_lexer": "ipython3",
   "version": "3.9.12"
  }
 },
 "nbformat": 4,
 "nbformat_minor": 5
}
